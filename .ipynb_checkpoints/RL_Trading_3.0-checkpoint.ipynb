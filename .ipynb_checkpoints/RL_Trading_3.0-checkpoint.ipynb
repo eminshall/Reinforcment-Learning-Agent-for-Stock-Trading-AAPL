{
 "cells": [
  {
   "cell_type": "markdown",
   "id": "9f91599e",
   "metadata": {},
   "source": [
    "# Install Dependencies"
   ]
  },
  {
   "cell_type": "code",
   "execution_count": null,
   "id": "6c40db25",
   "metadata": {},
   "outputs": [],
   "source": [
    "#!pip install stable-baselines3 gym-anytrading gym\n",
    "#!pip install finta\n",
    "#!pip install quantstats"
   ]
  },
  {
   "cell_type": "code",
   "execution_count": null,
   "id": "27121c72",
   "metadata": {},
   "outputs": [],
   "source": [
    "# Gym stuff\n",
    "import gym\n",
    "import gym_anytrading\n",
    "from gym_anytrading.envs import StocksEnv\n",
    "\n",
    "# Stable baselines - rl stuff\n",
    "from stable_baselines3.common.vec_env import DummyVecEnv\n",
    "from stable_baselines3.common.callbacks import EvalCallback, StopTrainingOnRewardThreshold\n",
    "from stable_baselines3 import A2C\n",
    "\n",
    "#Quant Finance\n",
    "from finta import TA\n",
    "import quantstats as qs\n",
    "\n",
    "# Processing libraries\n",
    "import os\n",
    "import numpy as np\n",
    "import pandas as pd\n",
    "from matplotlib import pyplot as plt"
   ]
  },
  {
   "cell_type": "markdown",
   "id": "b2fbff2b",
   "metadata": {},
   "source": [
    "# Source Trading Data"
   ]
  },
  {
   "cell_type": "code",
   "execution_count": null,
   "id": "7e6943e0",
   "metadata": {},
   "outputs": [],
   "source": [
    "#Get Key for Alphavantage API\n",
    "with open('key.txt', 'r') as f:\n",
    "    key = f.readline()"
   ]
  },
  {
   "cell_type": "code",
   "execution_count": null,
   "id": "82e88359",
   "metadata": {
    "scrolled": true
   },
   "outputs": [],
   "source": [
    "#Download 3 months of data (Alphavantage only provides 1 month per call)\n",
    "month_1 = 'https://www.alphavantage.co/query?function=TIME_SERIES_INTRADAY_EXTENDED&symbol=AAPL&interval=5min&slice=year1month1&apikey={key}&datatype=csv'\n",
    "month_2 = 'https://www.alphavantage.co/query?function=TIME_SERIES_INTRADAY_EXTENDED&symbol=AAPL&interval=5min&slice=year1month2&apikey={key}&datatype=csv'\n",
    "month_3 = 'https://www.alphavantage.co/query?function=TIME_SERIES_INTRADAY_EXTENDED&symbol=AAPL&interval=5min&slice=year1month3&apikey={key}&datatype=csv'\n",
    "\n",
    "#Grab the Data as CSV\n",
    "csv_1 = pd.read_csv(month_1)\n",
    "csv_2 = pd.read_csv(month_2)\n",
    "csv_3 = pd.read_csv(month_3)\n",
    "\n",
    "#Put it into a DataFrame\n",
    "data_1 = pd.DataFrame(csv_1)\n",
    "data_2 = pd.DataFrame(csv_2)\n",
    "data_3 = pd.DataFrame(csv_3)\n",
    "\n",
    "#Append the three months into one Dataframe\n",
    "data = data_1.append([data_2, data_3])\n",
    "\n",
    "data.head(3)"
   ]
  },
  {
   "cell_type": "code",
   "execution_count": null,
   "id": "4bafe868",
   "metadata": {},
   "outputs": [],
   "source": [
    "#Change the Time to proper type and set as index\n",
    "data['time'] = pd.to_datetime(data['time'])\n",
    "data.set_index('time', inplace=True)\n",
    "data.head()"
   ]
  },
  {
   "cell_type": "code",
   "execution_count": null,
   "id": "d2a89749",
   "metadata": {},
   "outputs": [],
   "source": [
    "#Set the values so the earliest time is first and the latest is last in the dataframe\n",
    "data.sort_values('time', ascending=True, inplace=True)\n",
    "data.head()"
   ]
  },
  {
   "cell_type": "code",
   "execution_count": null,
   "id": "a2205ff1",
   "metadata": {},
   "outputs": [],
   "source": [
    "#Title the columns for gym formatting reasons\n",
    "data = data.rename(columns = {'open': 'Open', 'high': 'High', 'low': 'Low', 'close': 'Close', 'volume': 'Volume'})"
   ]
  },
  {
   "cell_type": "code",
   "execution_count": null,
   "id": "0b603678",
   "metadata": {},
   "outputs": [],
   "source": [
    "data.shape"
   ]
  },
  {
   "cell_type": "code",
   "execution_count": null,
   "id": "3e412f79",
   "metadata": {},
   "outputs": [],
   "source": [
    "#Data tyeps neet to be numbers not objects\n",
    "data.dtypes"
   ]
  },
  {
   "cell_type": "markdown",
   "id": "f35c9ef0",
   "metadata": {},
   "source": [
    "# Add Custom Indicators"
   ]
  },
  {
   "cell_type": "markdown",
   "id": "2fc9359a",
   "metadata": {},
   "source": [
    "### SMA RSI OBV"
   ]
  },
  {
   "cell_type": "code",
   "execution_count": null,
   "id": "e274772e",
   "metadata": {},
   "outputs": [],
   "source": [
    "#Create columns for technical indicators & add them to the dataframe\n",
    "data['RSI'] = TA.RSI(data,16)\n",
    "data['SMA'] = TA.SMA(data)\n",
    "data['OBV'] = TA.OBV(data)\n",
    "data.fillna(0, inplace=True)"
   ]
  },
  {
   "cell_type": "markdown",
   "id": "d5f6f3bc",
   "metadata": {},
   "source": [
    "# Build Gym"
   ]
  },
  {
   "cell_type": "code",
   "execution_count": null,
   "id": "7099b472",
   "metadata": {},
   "outputs": [],
   "source": [
    "#Create a function to properly format data frame to be passed through environment\n",
    "def signals(env):\n",
    "    start = env.frame_bound[0] - env.window_size\n",
    "    end = env.frame_bound[1]\n",
    "    prices = env.df.loc[:,'Low'].to_numpy()[start:end]\n",
    "    signal_features = env.df.loc[:, ['Low','Open','High','Volume','RSI','SMA','OBV',]].to_numpy()[start:end]\n",
    "    return prices, signal_features"
   ]
  },
  {
   "cell_type": "code",
   "execution_count": null,
   "id": "e6eae687",
   "metadata": {
    "scrolled": true
   },
   "outputs": [],
   "source": [
    "data.head()"
   ]
  },
  {
   "cell_type": "code",
   "execution_count": null,
   "id": "7dd94dc1",
   "metadata": {},
   "outputs": [],
   "source": [
    "#Replace default data process with custom function from above\n",
    "class MyCustomEnv(StocksEnv):\n",
    "    _process_data = signals\n",
    "    \n",
    "#Initialize an environment setting the window size and train data\n",
    "env2 = MyCustomEnv(df=data, window_size=10, frame_bound=(10, 9000))"
   ]
  },
  {
   "cell_type": "code",
   "execution_count": null,
   "id": "18550c58",
   "metadata": {},
   "outputs": [],
   "source": [
    "#Create a Dummy Vector of our environment\n",
    "env_maker = lambda: env2\n",
    "env = DummyVecEnv([env_maker])"
   ]
  },
  {
   "cell_type": "markdown",
   "id": "f2bc64f7",
   "metadata": {},
   "source": [
    "# Train Agent"
   ]
  },
  {
   "cell_type": "code",
   "execution_count": null,
   "id": "48ad4803",
   "metadata": {},
   "outputs": [],
   "source": [
    "# Create log dir to save path to store our callback and model\n",
    "log_dir = \"reinforcement_learning/tmp/\"\n",
    "save_path = os.path.join('reinforcement_learning','tmp')"
   ]
  },
  {
   "cell_type": "code",
   "execution_count": null,
   "id": "fd9b8f3d",
   "metadata": {},
   "outputs": [],
   "source": [
    "#Stop training when the model reaches a stable training threshold\n",
    "stop_callback = StopTrainingOnRewardThreshold(reward_threshold=200, verbose=1)\n",
    "\n",
    "#Check training & evaluate performance unitl threshold has been met\n",
    "eval_callback = EvalCallback(env,\n",
    "                            callback_on_new_best=stop_callback,\n",
    "                            eval_freq=10000,\n",
    "                            best_model_save_path=save_path,\n",
    "                            verbose=1)"
   ]
  },
  {
   "cell_type": "code",
   "execution_count": null,
   "id": "716b5dea",
   "metadata": {
    "scrolled": true
   },
   "outputs": [],
   "source": [
    "#initialize our model and train\n",
    "model = A2C('MlpPolicy', env, verbose=1) \n",
    "model.learn(total_timesteps=1000000, callback=eval_callback)"
   ]
  },
  {
   "cell_type": "markdown",
   "id": "df834b35",
   "metadata": {},
   "source": [
    "# Test"
   ]
  },
  {
   "cell_type": "code",
   "execution_count": null,
   "id": "e77f7707",
   "metadata": {},
   "outputs": [],
   "source": [
    "#Load our trained model\n",
    "model = A2C.load(\"reinforcement_learning/tmp/best_model.zip\")"
   ]
  },
  {
   "cell_type": "code",
   "execution_count": null,
   "id": "29f19308",
   "metadata": {
    "scrolled": true
   },
   "outputs": [],
   "source": [
    "#Create a new environment with validation data\n",
    "env = MyCustomEnv(df=data, window_size=10, frame_bound=(8900,11243))\n",
    "obs = env.reset()"
   ]
  },
  {
   "cell_type": "code",
   "execution_count": null,
   "id": "12d868a3",
   "metadata": {},
   "outputs": [],
   "source": [
    "while True: \n",
    "    #obs = obs[np.newaxis, ...]\n",
    "    action, _states = model.predict(obs)\n",
    "    obs, rewards, done, info = env.step(action)\n",
    "    if done:\n",
    "        print(\"info\", info)\n",
    "        break"
   ]
  },
  {
   "cell_type": "code",
   "execution_count": null,
   "id": "2109e10d",
   "metadata": {},
   "outputs": [],
   "source": [
    "#Plot the results\n",
    "plt.figure(figsize=(15,6),facecolor='w')\n",
    "plt.cla()\n",
    "env.render_all()\n",
    "plt.show()"
   ]
  },
  {
   "cell_type": "markdown",
   "id": "d028563a",
   "metadata": {},
   "source": [
    "# Quant Reports"
   ]
  },
  {
   "cell_type": "code",
   "execution_count": null,
   "id": "8a229226",
   "metadata": {},
   "outputs": [],
   "source": [
    "qs.extend_pandas()\n",
    "\n",
    "net_worth = pd.Series(env.history['total_profit'], index=data.index[8900+1:])\n",
    "returns = net_worth.pct_change().iloc[1:]\n",
    "\n",
    "qs.reports.full(returns)"
   ]
  },
  {
   "cell_type": "markdown",
   "id": "1103d046",
   "metadata": {},
   "source": [
    "# Future Improvements\n",
    "\n",
    "* ~~Create custom indicators for actions~~\n",
    "* ~~Create a callback function to stop and save best training weights~~\n",
    "* ~~Import a larger dataset for a longer period of time~~\n",
    "* Try different RL Models like DQN or PPO\n",
    "* ~~Bring in some quantstats to evaluate the performance better~~"
   ]
  },
  {
   "cell_type": "code",
   "execution_count": null,
   "id": "b29f5bc1",
   "metadata": {},
   "outputs": [],
   "source": []
  }
 ],
 "metadata": {
  "kernelspec": {
   "display_name": "Python 3 (ipykernel)",
   "language": "python",
   "name": "python3"
  },
  "language_info": {
   "codemirror_mode": {
    "name": "ipython",
    "version": 3
   },
   "file_extension": ".py",
   "mimetype": "text/x-python",
   "name": "python",
   "nbconvert_exporter": "python",
   "pygments_lexer": "ipython3",
   "version": "3.9.12"
  }
 },
 "nbformat": 4,
 "nbformat_minor": 5
}
